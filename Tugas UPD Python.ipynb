{
 "cells": [
  {
   "cell_type": "code",
   "execution_count": 1,
   "metadata": {},
   "outputs": [
    {
     "name": "stdout",
     "output_type": "stream",
     "text": [
      "Laporan Nilai Akhir Semester SMK Wikrama Bogor\n",
      "================ DATA DIRI ===================\n",
      "NIS :45678\n",
      "Nama :dfghj\n",
      "Jenis Kelamin :ghjkl\n",
      "Rombel :ghjk\n",
      "Rayon :ghjkl\n",
      "============= Nilai ========================\n",
      "Nilai B.Indonesia : 90\n",
      "Nilai Matematika : 90\n",
      "Nilai B.Inggris : 90\n",
      "Rata-rata Nilai :  90.0\n",
      "Kriteria :  Lulus\n"
     ]
    }
   ],
   "source": [
    "print(\"Laporan Nilai Akhir Semester SMK Wikrama Bogor\")\n",
    "print(\"================ DATA DIRI ===================\")\n",
    "nis = int (input(\"NIS :\"))\n",
    "nama = str (input(\"Nama :\"))\n",
    "jk = str (input(\"Jenis Kelamin :\"))\n",
    "rombel= str (input(\"Rombel :\"))\n",
    "rayon = str (input(\"Rayon :\"))\n",
    "print (\"============= Nilai ========================\")\n",
    "b_indo = int(input(\"Nilai B.Indonesia : \"))\n",
    "mtk = int(input(\"Nilai Matematika : \"))\n",
    "b_ingg = int(input(\"Nilai B.Inggris : \"))\n",
    "rata = ((b_indo + mtk + b_ingg) / 3)\n",
    "print (\"Rata-rata Nilai : \",rata)\n",
    "if rata >= 75 :\n",
    "    keterangan =  (\"Lulus\")\n",
    "else :\n",
    "    keterangan (\"Tidak Lulus\")\n",
    "print (\"Kriteria : \",keterangan) \n",
    "\n"
   ]
  },
  {
   "cell_type": "code",
   "execution_count": null,
   "metadata": {},
   "outputs": [],
   "source": []
  }
 ],
 "metadata": {
  "kernelspec": {
   "display_name": "Python 3",
   "language": "python",
   "name": "python3"
  },
  "language_info": {
   "codemirror_mode": {
    "name": "ipython",
    "version": 3
   },
   "file_extension": ".py",
   "mimetype": "text/x-python",
   "name": "python",
   "nbconvert_exporter": "python",
   "pygments_lexer": "ipython3",
   "version": "3.7.3"
  }
 },
 "nbformat": 4,
 "nbformat_minor": 2
}
